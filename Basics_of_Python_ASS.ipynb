{
  "nbformat": 4,
  "nbformat_minor": 0,
  "metadata": {
    "colab": {
      "provenance": []
    },
    "kernelspec": {
      "name": "python3",
      "display_name": "Python 3"
    },
    "language_info": {
      "name": "python"
    }
  },
  "cells": [
    {
      "cell_type": "markdown",
      "source": [
        "## PYTHON PROGRAMMING ASSIGNMENT"
      ],
      "metadata": {
        "id": "DeOTDU32yvGq"
      }
    },
    {
      "cell_type": "markdown",
      "source": [
        "### Coding Exercises"
      ],
      "metadata": {
        "id": "oqqJrR96y3jR"
      }
    },
    {
      "cell_type": "code",
      "source": [
        "# Exercise 1: Prime Numbers\n",
        "# This program checks whether a given number is prime or not.\n",
        "\n",
        "def is_prime(n):\n",
        "    \"\"\"Check if a number is prime.\"\"\"\n",
        "    if n <= 1:\n",
        "        return False\n",
        "    for i in range(2, int(n ** 0.5) + 1):\n",
        "        if n % i == 0:\n",
        "            return False\n",
        "    return True\n",
        "\n",
        "# Test the function\n",
        "number = 29  # You can change this number to test with other values\n",
        "print(f\"{number} is prime: {is_prime(number)}\")"
      ],
      "metadata": {
        "colab": {
          "base_uri": "https://localhost:8080/"
        },
        "id": "5WF1FdplzWSx",
        "outputId": "9b60fc21-e363-4196-a364-78667238cad6"
      },
      "execution_count": 1,
      "outputs": [
        {
          "output_type": "stream",
          "name": "stdout",
          "text": [
            "29 is prime: True\n"
          ]
        }
      ]
    },
    {
      "cell_type": "code",
      "source": [
        "# Exercise 2: Product of Random Numbers\n",
        "# This program generates two random numbers, asks for their product, and checks the user's answer.\n",
        "\n",
        "import random\n",
        "\n",
        "num1 = random.randint(1, 10)\n",
        "num2 = random.randint(1, 10)\n",
        "\n",
        "correct_product = num1 * num2\n",
        "user_input = int(input(f\"What is the product of {num1} and {num2}? \"))\n",
        "\n",
        "if user_input == correct_product:\n",
        "    print(\"Correct!\")\n",
        "else:\n",
        "    print(f\"Incorrect. The correct answer is {correct_product}.\")\n"
      ],
      "metadata": {
        "colab": {
          "base_uri": "https://localhost:8080/"
        },
        "id": "wq7BUgurzZOQ",
        "outputId": "40308908-31a4-4f65-b699-969d01a3eede"
      },
      "execution_count": 2,
      "outputs": [
        {
          "output_type": "stream",
          "name": "stdout",
          "text": [
            "What is the product of 6 and 10? 55\n",
            "Incorrect. The correct answer is 60.\n"
          ]
        }
      ]
    },
    {
      "cell_type": "code",
      "source": [
        "# Exercise 3: Squares of Even Numbers\n",
        "# This script prints the squares of all even numbers within the range of 100 to 200.\n",
        "\n",
        "# We choose even numbers for this task.\n",
        "print(\"Squares of even numbers from 100 to 200:\")\n",
        "for num in range(100, 201):\n",
        "    if num % 2 == 0:\n",
        "        print(f\"{num}^2 = {num ** 2}\")"
      ],
      "metadata": {
        "colab": {
          "base_uri": "https://localhost:8080/"
        },
        "id": "jdKyB32Szd01",
        "outputId": "13712c6b-ee0d-4eb3-c897-fb8dcb6b7c31"
      },
      "execution_count": 3,
      "outputs": [
        {
          "output_type": "stream",
          "name": "stdout",
          "text": [
            "Squares of even numbers from 100 to 200:\n",
            "100^2 = 10000\n",
            "102^2 = 10404\n",
            "104^2 = 10816\n",
            "106^2 = 11236\n",
            "108^2 = 11664\n",
            "110^2 = 12100\n",
            "112^2 = 12544\n",
            "114^2 = 12996\n",
            "116^2 = 13456\n",
            "118^2 = 13924\n",
            "120^2 = 14400\n",
            "122^2 = 14884\n",
            "124^2 = 15376\n",
            "126^2 = 15876\n",
            "128^2 = 16384\n",
            "130^2 = 16900\n",
            "132^2 = 17424\n",
            "134^2 = 17956\n",
            "136^2 = 18496\n",
            "138^2 = 19044\n",
            "140^2 = 19600\n",
            "142^2 = 20164\n",
            "144^2 = 20736\n",
            "146^2 = 21316\n",
            "148^2 = 21904\n",
            "150^2 = 22500\n",
            "152^2 = 23104\n",
            "154^2 = 23716\n",
            "156^2 = 24336\n",
            "158^2 = 24964\n",
            "160^2 = 25600\n",
            "162^2 = 26244\n",
            "164^2 = 26896\n",
            "166^2 = 27556\n",
            "168^2 = 28224\n",
            "170^2 = 28900\n",
            "172^2 = 29584\n",
            "174^2 = 30276\n",
            "176^2 = 30976\n",
            "178^2 = 31684\n",
            "180^2 = 32400\n",
            "182^2 = 33124\n",
            "184^2 = 33856\n",
            "186^2 = 34596\n",
            "188^2 = 35344\n",
            "190^2 = 36100\n",
            "192^2 = 36864\n",
            "194^2 = 37636\n",
            "196^2 = 38416\n",
            "198^2 = 39204\n",
            "200^2 = 40000\n"
          ]
        }
      ]
    },
    {
      "cell_type": "code",
      "source": [
        "# Exercise 4: Word Counter\n",
        "# This program counts the number of occurrences of each word in a given text.\n",
        "\n",
        "input_text = \"This is a sample text. This text will be used to demonstrate the word counter.\"\n",
        "\n",
        "# Convert the text to lowercase and split into words\n",
        "words = input_text.lower().split()\n",
        "\n",
        "# Create a dictionary to count occurrences of each word\n",
        "word_count = {}\n",
        "\n",
        "for word in words:\n",
        "    word = word.strip(\".,!?\")  # Remove punctuation\n",
        "    if word in word_count:\n",
        "        word_count[word] += 1\n",
        "    else:\n",
        "        word_count[word] = 1\n",
        "\n",
        "# Display the word counts\n",
        "for word, count in word_count.items():\n",
        "    print(f\"'{word}': {count}\")"
      ],
      "metadata": {
        "colab": {
          "base_uri": "https://localhost:8080/"
        },
        "id": "mch5Ah2SzqaM",
        "outputId": "0f9af4db-c923-4d1a-c2e1-37e6e8fab5e5"
      },
      "execution_count": 4,
      "outputs": [
        {
          "output_type": "stream",
          "name": "stdout",
          "text": [
            "'this': 2\n",
            "'is': 1\n",
            "'a': 1\n",
            "'sample': 1\n",
            "'text': 2\n",
            "'will': 1\n",
            "'be': 1\n",
            "'used': 1\n",
            "'to': 1\n",
            "'demonstrate': 1\n",
            "'the': 1\n",
            "'word': 1\n",
            "'counter': 1\n"
          ]
        }
      ]
    },
    {
      "cell_type": "code",
      "source": [
        "# Exercise 5: Check for Palindrome\n",
        "# This function checks whether a given string is a palindrome.\n",
        "\n",
        "def is_palindrome(s):\n",
        "    \"\"\"Check if a string is a palindrome.\"\"\"\n",
        "    # Remove spaces, punctuation, and convert to lowercase\n",
        "    cleaned_str = ''.join(e for e in s if e.isalnum()).lower()\n",
        "    # Check if the string reads the same forward and backward\n",
        "    return cleaned_str == cleaned_str[::-1]\n",
        "\n",
        "# Test the function\n",
        "input_string = \"racecar\"  # You can change this string to test with other values\n",
        "print(f\"'{input_string}' is a palindrome: {is_palindrome(input_string)}\")\n"
      ],
      "metadata": {
        "colab": {
          "base_uri": "https://localhost:8080/"
        },
        "id": "PZgB7KTgy7WP",
        "outputId": "fa250eca-f2f9-41c0-eb5e-40031e816db7"
      },
      "execution_count": 5,
      "outputs": [
        {
          "output_type": "stream",
          "name": "stdout",
          "text": [
            "'racecar' is a palindrome: True\n"
          ]
        }
      ]
    },
    {
      "cell_type": "markdown",
      "source": [
        "### conclusion\n",
        "These exercises reinforced key programming concepts including prime checking, random number operations, iteration, string manipulation, and conditionals. The tasks ranged from mathematical checks to user interaction, demonstrating essential Python skills in a Jupyter notebook environment."
      ],
      "metadata": {
        "id": "ZXzLYErZz9dj"
      }
    },
    {
      "cell_type": "code",
      "source": [],
      "metadata": {
        "id": "2dD-MyJi0DmV"
      },
      "execution_count": null,
      "outputs": []
    }
  ]
}