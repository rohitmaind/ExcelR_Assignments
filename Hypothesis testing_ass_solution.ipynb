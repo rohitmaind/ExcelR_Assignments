{
 "cells": [
  {
   "cell_type": "markdown",
   "id": "7394571a-ede0-4d1e-8b85-a2bb9bcf4f9d",
   "metadata": {},
   "source": [
    "#                                                Hypothesis Testing "
   ]
  },
  {
   "cell_type": "markdown",
   "id": "1f648599-9962-48d3-8d69-593cb259560d",
   "metadata": {},
   "source": [
    "## Hypothesis Testing\n",
    "\n",
    "### 1. State the Hypotheses Statement:\n",
    "- Null Hypothesis (H0): The mean weekly operating cost is as per the theoretical model, i.e., (𝜇 = $1,000 + $5X ).\n",
    "- Alternative Hypothesis ((H_1): The mean weekly operating cost is higher than the theoretical model, i.e., 𝜇 > $1,000 + $5X ).\n",
    "\n",
    "### 2. Calculate the Test Statistic:\n",
    "The theoretical mean weekly cost (\\( \\mu \\)) can be calculated using the provided cost model:\n",
    "μ=$1,000+$5×600=$4,000\n"
   ]
  },
  {
   "cell_type": "code",
   "execution_count": 33,
   "id": "9761c2e2-baee-48c6-9f23-8ff9ff7e4d5a",
   "metadata": {},
   "outputs": [],
   "source": [
    "import scipy.stats as st\n",
    "import numpy as np\n",
    "import pandas as pd"
   ]
  },
  {
   "cell_type": "code",
   "execution_count": 34,
   "id": "7ff1c9e6-2c7b-4eb4-91e6-f5b71cc09699",
   "metadata": {},
   "outputs": [],
   "source": [
    "# Given data in problem statement\n",
    "samp_mean = 3050 \n",
    "pop_mean = 4000\n",
    "pop_std = 5 * 25\n",
    "n = 25\n",
    "alpha = 0.05"
   ]
  },
  {
   "cell_type": "code",
   "execution_count": 35,
   "id": "f92ff4c9-5a6b-437f-9221-e0afcb2017ef",
   "metadata": {},
   "outputs": [
    {
     "name": "stdout",
     "output_type": "stream",
     "text": [
      "Test Statistic (t-value): -38.0\n"
     ]
    }
   ],
   "source": [
    "# Calculate the t-statistic value\n",
    "tvalue = (samp_mean - pop_mean) / (pop_std / np.sqrt(n))\n",
    "print(f\"Test Statistic (t-value): {tvalue}\")"
   ]
  },
  {
   "cell_type": "code",
   "execution_count": 36,
   "id": "6a55cbc5-a8d3-4030-a4d1-15b0b5a06ec1",
   "metadata": {},
   "outputs": [
    {
     "name": "stdout",
     "output_type": "stream",
     "text": [
      "P-value: 2.96078108081779e-23\n"
     ]
    }
   ],
   "source": [
    "# Calculate the p-value using scipy.stats model\n",
    "pvalue = st.t.cdf(tvalue, df=n-1)\n",
    "print(f\"P-value: {pvalue}\")"
   ]
  },
  {
   "cell_type": "code",
   "execution_count": 37,
   "id": "c9e4ec05-3fa0-42d3-8d52-f1e09a77ac4e",
   "metadata": {},
   "outputs": [
    {
     "name": "stdout",
     "output_type": "stream",
     "text": [
      "We reject the Null hypothesis, i.e., the weekly operating cost is not equal to the theoretical weekly operating cost.\n"
     ]
    }
   ],
   "source": [
    "# Decision based on p-value\n",
    "if pvalue < alpha:\n",
    "    print('We reject the Null hypothesis, i.e., the weekly operating cost is not equal to the theoretical weekly operating cost.')\n",
    "else:\n",
    "    print('Fail to reject the Null Hypothesis, i.e., the weekly operating cost is equal to the theoretical weekly operating cost.')\n"
   ]
  },
  {
   "cell_type": "code",
   "execution_count": 38,
   "id": "6672e7ea-362d-446e-b116-6d7c79858891",
   "metadata": {},
   "outputs": [
    {
     "name": "stdout",
     "output_type": "stream",
     "text": [
      "Critical Value: -1.6448536269514729\n"
     ]
    }
   ],
   "source": [
    "# Determine the critical value for alpha = 0.05 (one-tailed test)\n",
    "critical_value = st.norm.ppf(alpha)\n",
    "print(f\"Critical Value: {critical_value}\")\n"
   ]
  },
  {
   "cell_type": "markdown",
   "id": "15f33ed1-0771-4b02-83a5-03863d446e4f",
   "metadata": {},
   "source": [
    "### Results and Conclusion:\n",
    "1. **Test Statistic Calculation:**\n",
    "   - Test Statistic (\\(t\\)) = -38.0\n",
    "2. **P-value Calculation:**\n",
    "   - P-value = \\(2.9607810808177907e-23\\)\n",
    "3. **Decision:**\n",
    "   - Since the p-value (\\(2.9607810808177907e-23\\)) is less than the alpha level (0.05), we reject the null hypothesis.\n",
    "4. **Conclusion:**\n",
    "   - There is strong evidence to support the restaurant owners' claim that the weekly operating costs are higher than the model suggests.\n",
    "\n",
    "This code covers the hypothesis testing as required, with a clear decision-making process based on the calculated p-value and the given level of significance."
   ]
  },
  {
   "cell_type": "markdown",
   "id": "0796be02-04fc-4cdd-9d31-3d814fc290a0",
   "metadata": {},
   "source": [
    "# Chi Square test :"
   ]
  },
  {
   "cell_type": "markdown",
   "id": "2250de47-4829-48c5-90a5-343aea740e07",
   "metadata": {},
   "source": [
    "### Background:\n",
    "Mizzare Corporation has collected data on customer satisfaction levels for two types of smart home devices: Smart Thermostats and Smart Lights. They want to determine if there's a significant association between the type of device purchased and the customer's satisfaction level.\n"
   ]
  },
  {
   "cell_type": "markdown",
   "id": "573da644-83ca-48a6-b157-c6987b278c33",
   "metadata": {},
   "source": [
    "### Objective: \n",
    "To use the Chi-Square test for independence to determine if there's a significant association between the type of smart home device purchased (Smart Thermostats vs. Smart Lights) and the customer satisfaction level. ."
   ]
  },
  {
   "cell_type": "markdown",
   "id": "ff4ab3ac-dbd2-4795-ab44-dc9d2e600d2d",
   "metadata": {},
   "source": [
    "### State the null hypothesis\n",
    "\n",
    "Null Hypothesis(H0) = The columns (device type and satisfaction level) are independent, i.e., there is no significant association between the type of smart home device purchased and customer satisfaction level.\n",
    "\n",
    "Alternate Hypothesis (H_1)= The Columns are Dependent i.e there is a relationship between two columns."
   ]
  },
  {
   "cell_type": "code",
   "execution_count": 39,
   "id": "66310342-70f7-40df-9bdc-33a911b5e573",
   "metadata": {},
   "outputs": [],
   "source": [
    "import numpy as np\n",
    "import pandas as pd\n",
    "from scipy.stats import chi2_contingency\n",
    "import scipy.stats as st"
   ]
  },
  {
   "cell_type": "code",
   "execution_count": 40,
   "id": "9787ea02-bf0e-4b31-9508-ba64554c709e",
   "metadata": {},
   "outputs": [],
   "source": [
    "# Given data\n",
    "data = {\n",
    "    'Satisfaction': ['Very Satisfied', 'Satisfied', 'Neutral', 'Unsatisfied', 'Very Unsatisfied'],\n",
    "    'Smart Thermostat': [50, 80, 60, 30, 20],\n",
    "    'Smart Light': [70, 100, 90, 50, 50]\n",
    "}\n"
   ]
  },
  {
   "cell_type": "code",
   "execution_count": 41,
   "id": "a90f0367-1f42-40b2-9bfe-ea296a2d103e",
   "metadata": {},
   "outputs": [
    {
     "data": {
      "text/plain": [
       "{'Satisfaction': ['Very Satisfied',\n",
       "  'Satisfied',\n",
       "  'Neutral',\n",
       "  'Unsatisfied',\n",
       "  'Very Unsatisfied'],\n",
       " 'Smart Thermostat': [50, 80, 60, 30, 20],\n",
       " 'Smart Light': [70, 100, 90, 50, 50]}"
      ]
     },
     "execution_count": 41,
     "metadata": {},
     "output_type": "execute_result"
    }
   ],
   "source": [
    "data\n"
   ]
  },
  {
   "cell_type": "code",
   "execution_count": 42,
   "id": "11036510-b60e-4d37-90ee-0d18ce1cdff4",
   "metadata": {},
   "outputs": [],
   "source": [
    "# Convert the data to a DataFrame\n",
    "df = pd.DataFrame(data)\n"
   ]
  },
  {
   "cell_type": "code",
   "execution_count": 43,
   "id": "fb7e7c54-b831-4678-a605-3b2e75c1c12a",
   "metadata": {},
   "outputs": [
    {
     "data": {
      "text/html": [
       "<div>\n",
       "<style scoped>\n",
       "    .dataframe tbody tr th:only-of-type {\n",
       "        vertical-align: middle;\n",
       "    }\n",
       "\n",
       "    .dataframe tbody tr th {\n",
       "        vertical-align: top;\n",
       "    }\n",
       "\n",
       "    .dataframe thead th {\n",
       "        text-align: right;\n",
       "    }\n",
       "</style>\n",
       "<table border=\"1\" class=\"dataframe\">\n",
       "  <thead>\n",
       "    <tr style=\"text-align: right;\">\n",
       "      <th></th>\n",
       "      <th>Satisfaction</th>\n",
       "      <th>Smart Thermostat</th>\n",
       "      <th>Smart Light</th>\n",
       "    </tr>\n",
       "  </thead>\n",
       "  <tbody>\n",
       "    <tr>\n",
       "      <th>0</th>\n",
       "      <td>Very Satisfied</td>\n",
       "      <td>50</td>\n",
       "      <td>70</td>\n",
       "    </tr>\n",
       "    <tr>\n",
       "      <th>1</th>\n",
       "      <td>Satisfied</td>\n",
       "      <td>80</td>\n",
       "      <td>100</td>\n",
       "    </tr>\n",
       "    <tr>\n",
       "      <th>2</th>\n",
       "      <td>Neutral</td>\n",
       "      <td>60</td>\n",
       "      <td>90</td>\n",
       "    </tr>\n",
       "    <tr>\n",
       "      <th>3</th>\n",
       "      <td>Unsatisfied</td>\n",
       "      <td>30</td>\n",
       "      <td>50</td>\n",
       "    </tr>\n",
       "    <tr>\n",
       "      <th>4</th>\n",
       "      <td>Very Unsatisfied</td>\n",
       "      <td>20</td>\n",
       "      <td>50</td>\n",
       "    </tr>\n",
       "  </tbody>\n",
       "</table>\n",
       "</div>"
      ],
      "text/plain": [
       "       Satisfaction  Smart Thermostat  Smart Light\n",
       "0    Very Satisfied                50           70\n",
       "1         Satisfied                80          100\n",
       "2           Neutral                60           90\n",
       "3       Unsatisfied                30           50\n",
       "4  Very Unsatisfied                20           50"
      ]
     },
     "execution_count": 43,
     "metadata": {},
     "output_type": "execute_result"
    }
   ],
   "source": [
    "df"
   ]
  },
  {
   "cell_type": "code",
   "execution_count": 44,
   "id": "10c827eb-3cfe-4f88-9840-cfada1c2910e",
   "metadata": {},
   "outputs": [
    {
     "name": "stdout",
     "output_type": "stream",
     "text": [
      "Data:\n",
      "       Satisfaction  Smart Thermostat  Smart Light\n",
      "0    Very Satisfied                50           70\n",
      "1         Satisfied                80          100\n",
      "2           Neutral                60           90\n",
      "3       Unsatisfied                30           50\n",
      "4  Very Unsatisfied                20           50\n"
     ]
    }
   ],
   "source": [
    "# Display the data\n",
    "print(\"Data:\")\n",
    "print(df)"
   ]
  },
  {
   "cell_type": "code",
   "execution_count": 45,
   "id": "3d79e966-111c-4daf-9f6e-8c7d5b575ff5",
   "metadata": {},
   "outputs": [],
   "source": [
    "# Create the contingency table\n",
    "contingency_table = df[['Smart Thermostat', 'Smart Light']].values"
   ]
  },
  {
   "cell_type": "code",
   "execution_count": 46,
   "id": "81d0455f-b595-4452-b8ea-c8a82ed24873",
   "metadata": {},
   "outputs": [],
   "source": [
    "# Perform the Chi-Square test for independence\n",
    "chi2_statistic, p_value, degrees_of_freedom, expected_frequencies = chi2_contingency(contingency_table)\n"
   ]
  },
  {
   "cell_type": "code",
   "execution_count": 47,
   "id": "c7191b47-41ad-4ad1-9fb3-14d7b5b99152",
   "metadata": {},
   "outputs": [
    {
     "name": "stdout",
     "output_type": "stream",
     "text": [
      "\n",
      "Chi-Square Statistic: 5.638227513227513\n",
      "P-value: 0.22784371130697179\n",
      "Degrees of Freedom: 4\n",
      "Expected Frequencies:\n",
      "[[ 48.  72.]\n",
      " [ 72. 108.]\n",
      " [ 60.  90.]\n",
      " [ 32.  48.]\n",
      " [ 28.  42.]]\n"
     ]
    }
   ],
   "source": [
    "# Output the Chi-Square statistic, p-value, degrees of freedom, and expected frequencies\n",
    "print(f\"\\nChi-Square Statistic: {chi2_statistic}\")\n",
    "print(f\"P-value: {p_value}\")\n",
    "print(f\"Degrees of Freedom: {degrees_of_freedom}\")\n",
    "print(f\"Expected Frequencies:\\n{expected_frequencies}\")"
   ]
  },
  {
   "cell_type": "code",
   "execution_count": 48,
   "id": "2313703d-4913-4f81-b627-80a57609c00d",
   "metadata": {},
   "outputs": [
    {
     "name": "stdout",
     "output_type": "stream",
     "text": [
      "Critical Value: 9.487729036781154\n"
     ]
    }
   ],
   "source": [
    "# Determine the critical value for alpha = 0.05\n",
    "alpha = 0.05\n",
    "critical_value = st.chi2.ppf(1 - alpha, degrees_of_freedom)\n",
    "print(f\"Critical Value: {critical_value}\")"
   ]
  },
  {
   "cell_type": "code",
   "execution_count": 49,
   "id": "9d5ee112-ac1d-4e03-abff-84942a526b93",
   "metadata": {},
   "outputs": [
    {
     "name": "stdout",
     "output_type": "stream",
     "text": [
      "Fail to reject the null hypothesis: There is no significant association between the type of smart home device purchased and the customer satisfaction level.\n"
     ]
    }
   ],
   "source": [
    "# Make the decision\n",
    "if chi2_statistic > critical_value:\n",
    "    print(\"Reject the null hypothesis: There is a significant association between the type of smart home device purchased and the customer satisfaction level.\")\n",
    "else:\n",
    "    print(\"Fail to reject the null hypothesis: There is no significant association between the type of smart home device purchased and the customer satisfaction level.\")"
   ]
  },
  {
   "cell_type": "markdown",
   "id": "e7be4bbc-d16a-4f68-8ecd-3dff86912d4f",
   "metadata": {},
   "source": [
    "### Results and Conclusion\n",
    "Chi-Square Statistic Calculation:\n",
    "\n",
    "Chi-Square Statistic: 5.638\n",
    "P-value: 0.2278\n",
    "Degrees of Freedom: 4\n",
    "Critical Value: α=0.05 and 4 degrees of freedom, the critical value is 9.488.\n",
    "\n",
    "Decision:\n",
    "Since the Chi-Square statistic (5.638) is less than the critical value (9.488), we fail to reject the null hypothesis.\n",
    "\n",
    "Conclusion:\n",
    "There is no significant association between the type of smart home device purchased and the customer satisfaction level."
   ]
  },
  {
   "cell_type": "code",
   "execution_count": null,
   "id": "326623ae-1237-488c-8439-1e615cd74b44",
   "metadata": {},
   "outputs": [],
   "source": []
  },
  {
   "cell_type": "code",
   "execution_count": null,
   "id": "c3619725-20ff-4571-88d3-f602e4988693",
   "metadata": {},
   "outputs": [],
   "source": []
  }
 ],
 "metadata": {
  "kernelspec": {
   "display_name": "Python 3 (ipykernel)",
   "language": "python",
   "name": "python3"
  },
  "language_info": {
   "codemirror_mode": {
    "name": "ipython",
    "version": 3
   },
   "file_extension": ".py",
   "mimetype": "text/x-python",
   "name": "python",
   "nbconvert_exporter": "python",
   "pygments_lexer": "ipython3",
   "version": "3.12.2"
  }
 },
 "nbformat": 4,
 "nbformat_minor": 5
}
