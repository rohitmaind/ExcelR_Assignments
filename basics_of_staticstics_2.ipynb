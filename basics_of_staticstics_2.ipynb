{
  "nbformat": 4,
  "nbformat_minor": 0,
  "metadata": {
    "colab": {
      "provenance": []
    },
    "kernelspec": {
      "name": "python3",
      "display_name": "Python 3"
    },
    "language_info": {
      "name": "python"
    }
  },
  "cells": [
    {
      "cell_type": "markdown",
      "source": [
        "## Estimation And Confidence Intervals\n",
        "###Background\n",
        "In quality control processes, especially when dealing with high-value items, destructive sampling is a necessary but costly method to ensure product quality. The test to determine whether an item meets the quality standards destroys the item, leading to the requirement of small sample sizes due to cost constraints.\n",
        "###Scenario\n",
        "A manufacturer of print-heads for personal computers is interested in estimating the mean durability of their print-heads in terms of the number of characters printed before failure. To assess this, the manufacturer conducts a study on a small sample of print-heads due to the destructive nature of the testing process.\n"
      ],
      "metadata": {
        "id": "WdzhS_mo1vf8"
      }
    },
    {
      "cell_type": "code",
      "source": [
        "import numpy as np\n",
        "from scipy.stats import t, norm"
      ],
      "metadata": {
        "id": "q6jjNPpK2sQd"
      },
      "execution_count": 1,
      "outputs": []
    },
    {
      "cell_type": "code",
      "source": [
        "# Data: Durability of print-heads in millions of characters\n",
        "data = [1.13, 1.55, 1.43, 0.92, 1.25, 1.36, 1.32, 0.85, 1.07, 1.48, 1.20, 1.33, 1.18, 1.22, 1.29]"
      ],
      "metadata": {
        "id": "y-TGPg8I2yWm"
      },
      "execution_count": 2,
      "outputs": []
    },
    {
      "cell_type": "code",
      "source": [
        "# Task A: 99% Confidence Interval using sample standard deviation\n",
        "n = len(data)\n",
        "sample_mean = np.mean(data)\n",
        "sample_std = np.std(data, ddof=1)  # Use ddof=1 to get the sample standard deviation\n",
        "alpha = 0.01  # 99% confidence level means alpha is 0.01\n",
        "t_critical = t.ppf(1 - alpha/2, df=n-1)\n"
      ],
      "metadata": {
        "id": "b4jaekf824E6"
      },
      "execution_count": 3,
      "outputs": []
    },
    {
      "cell_type": "code",
      "source": [
        "# Calculate the margin of error and confidence interval\n",
        "margin_of_error_t = t_critical * sample_std / np.sqrt(n)\n",
        "confidence_interval_t = (sample_mean - margin_of_error_t, sample_mean + margin_of_error_t)\n",
        "print(\"99% Confidence Interval using sample standard deviation:\")\n",
        "print(confidence_interval_t)"
      ],
      "metadata": {
        "colab": {
          "base_uri": "https://localhost:8080/"
        },
        "id": "YehRUGmW29y1",
        "outputId": "ea93fac4-3ba6-47dd-aeb1-bfe873d72719"
      },
      "execution_count": 5,
      "outputs": [
        {
          "output_type": "stream",
          "name": "stdout",
          "text": [
            "99% Confidence Interval using sample standard deviation:\n",
            "(1.0901973384384906, 1.3871359948948425)\n"
          ]
        }
      ]
    },
    {
      "cell_type": "code",
      "source": [
        "# Task 2: 99% Confidence Interval using known population standard deviation\n",
        "population_std = 0.2\n",
        "z_critical = norm.ppf(1 - alpha/2)\n",
        "\n",
        "# Calculate the margin of error and confidence interval\n",
        "margin_of_error_z = z_critical * population_std / np.sqrt(n)\n",
        "confidence_interval_z = (sample_mean - margin_of_error_z, sample_mean + margin_of_error_z)\n",
        "\n",
        "print(\"99% Confidence Interval using known population standard deviation:\")\n",
        "print(confidence_interval_z)\n"
      ],
      "metadata": {
        "colab": {
          "base_uri": "https://localhost:8080/"
        },
        "id": "RngofzHs3Bxf",
        "outputId": "385cf36c-7853-4ebb-8b8d-85df53d6a633"
      },
      "execution_count": 6,
      "outputs": [
        {
          "output_type": "stream",
          "name": "stdout",
          "text": [
            "99% Confidence Interval using known population standard deviation:\n",
            "(1.1056514133957607, 1.3716819199375725)\n"
          ]
        }
      ]
    },
    {
      "cell_type": "markdown",
      "source": [
        "### conclusion :\n",
        "The two tasks successfully constructed 99% confidence intervals for the mean durability of print-heads, using both the sample and known population standard deviations. The t-distribution was used for the sample standard deviation due to the small sample size, while the z-distribution was applied for the known population standard deviation. Both methods provided slightly different confidence intervals, reflecting the impact of using sample versus population data."
      ],
      "metadata": {
        "id": "dFfA8XPk3M0V"
      }
    },
    {
      "cell_type": "code",
      "source": [
        "\n",
        "\n",
        "\n",
        "\n",
        "\n",
        "\n",
        "\n",
        "\n"
      ],
      "metadata": {
        "id": "-T9Q-ZIQ2ELw"
      },
      "execution_count": null,
      "outputs": []
    }
  ]
}